{
 "cells": [
  {
   "cell_type": "code",
   "execution_count": 5,
   "metadata": {},
   "outputs": [
    {
     "name": "stderr",
     "output_type": "stream",
     "text": [
      "2025-06-23 23:10:30,156 - INFO - --- Starting Model Training Smoke Test ---\n",
      "2025-06-23 23:10:30,157 - INFO - Removing previous smoke test directory: ../models/autogluon_smoketest\n",
      "2025-06-23 23:10:30,174 - INFO - Loading full training data from: ../data/processed/train_data.csv\n",
      "2025-06-23 23:10:32,639 - INFO - Created a stratified sample of 400 records for the test run.\n",
      "2025-06-23 23:10:32,639 - INFO - Renaming 'aki_label' column to 'label' to align with documentation.\n",
      "2025-06-23 23:10:32,640 - INFO - Initializing MultiModalPredictor for a single model: convnext_tiny\n",
      "2025-06-23 23:10:32,642 - INFO - Starting model training with a time limit of 600 seconds.\n",
      "=================== System Info ===================\n",
      "AutoGluon Version:  1.3.1\n",
      "Python Version:     3.9.23\n",
      "Operating System:   Windows\n",
      "Platform Machine:   AMD64\n",
      "Platform Version:   10.0.19045\n",
      "CPU Count:          12\n",
      "Pytorch Version:    2.5.1\n",
      "CUDA Version:       11.8\n",
      "Memory Avail:       6.76 GB / 31.35 GB (21.6%)\n",
      "Disk Space Avail:   331.62 GB / 1863.00 GB (17.8%)\n",
      "===================================================\n",
      "\n",
      "AutoMM starts to create your model. ✨✨✨\n",
      "\n",
      "To track the learning progress, you can open a terminal and launch Tensorboard:\n",
      "    ```shell\n",
      "    # Assume you have installed tensorboard\n",
      "    tensorboard --logdir d:\\Projects\\aki_prediction_project\\models\\autogluon_smoketest\n",
      "    ```\n",
      "\n",
      "Seed set to 0\n",
      "2025-06-23 23:10:33,545 - INFO - Loading pretrained weights from Hugging Face hub (timm/convnext_tiny.in12k_ft_in1k)\n",
      "2025-06-23 23:10:33,669 - INFO - [timm/convnext_tiny.in12k_ft_in1k] Safe alternative available for 'pytorch_model.bin' (as 'model.safetensors'). Loading weights using safetensors.\n",
      "2025-06-23 23:10:33,763 - INFO - Missing keys (head.fc.weight, head.fc.bias) discovered while loading pretrained weights. This is expected if model is being adapted.\n",
      "GPU Count: 1\n",
      "GPU Count to be Used: 1\n",
      "\n",
      "Using 16bit Automatic Mixed Precision (AMP)\n",
      "GPU available: True (cuda), used: True\n",
      "TPU available: False, using: 0 TPU cores\n",
      "HPU available: False, using: 0 HPUs\n",
      "LOCAL_RANK: 0 - CUDA_VISIBLE_DEVICES: [0]\n",
      "\n",
      "  | Name              | Type                            | Params | Mode \n",
      "------------------------------------------------------------------------------\n",
      "0 | model             | TimmAutoModelForImagePrediction | 27.8 M | train\n",
      "1 | validation_metric | BinaryAUROC                     | 0      | train\n",
      "2 | loss_func         | CrossEntropyLoss                | 0      | train\n",
      "------------------------------------------------------------------------------\n",
      "27.8 M    Trainable params\n",
      "0         Non-trainable params\n",
      "27.8 M    Total params\n",
      "111.287   Total estimated model params size (MB)\n",
      "253       Modules in train mode\n",
      "0         Modules in eval mode\n"
     ]
    },
    {
     "data": {
      "application/vnd.jupyter.widget-view+json": {
       "model_id": "82c69aa4601c4ceaa13de991566f751d",
       "version_major": 2,
       "version_minor": 0
      },
      "text/plain": [
       "Sanity Checking: |          | 0/? [00:00<?, ?it/s]"
      ]
     },
     "metadata": {},
     "output_type": "display_data"
    },
    {
     "data": {
      "application/vnd.jupyter.widget-view+json": {
       "model_id": "63f19bac4f294e7d96c5734783a0c2b7",
       "version_major": 2,
       "version_minor": 0
      },
      "text/plain": [
       "Training: |          | 0/? [00:00<?, ?it/s]"
      ]
     },
     "metadata": {},
     "output_type": "display_data"
    },
    {
     "data": {
      "application/vnd.jupyter.widget-view+json": {
       "model_id": "cd2ba74fcefa4eafa2475365780a82a8",
       "version_major": 2,
       "version_minor": 0
      },
      "text/plain": [
       "Validation: |          | 0/? [00:00<?, ?it/s]"
      ]
     },
     "metadata": {},
     "output_type": "display_data"
    },
    {
     "name": "stderr",
     "output_type": "stream",
     "text": [
      "Epoch 0, global step 1: 'val_roc_auc' reached 0.46933 (best 0.46933), saving model to 'D:\\\\Projects\\\\aki_prediction_project\\\\models\\\\autogluon_smoketest\\\\epoch=0-step=1.ckpt' as top 3\n"
     ]
    },
    {
     "data": {
      "application/vnd.jupyter.widget-view+json": {
       "model_id": "084d8aade13842d08521f9520debbbbe",
       "version_major": 2,
       "version_minor": 0
      },
      "text/plain": [
       "Validation: |          | 0/? [00:00<?, ?it/s]"
      ]
     },
     "metadata": {},
     "output_type": "display_data"
    },
    {
     "name": "stderr",
     "output_type": "stream",
     "text": [
      "Epoch 0, global step 3: 'val_roc_auc' reached 0.58667 (best 0.58667), saving model to 'D:\\\\Projects\\\\aki_prediction_project\\\\models\\\\autogluon_smoketest\\\\epoch=0-step=3.ckpt' as top 3\n"
     ]
    },
    {
     "data": {
      "application/vnd.jupyter.widget-view+json": {
       "model_id": "ffe43bdf3bdc415697de751674902085",
       "version_major": 2,
       "version_minor": 0
      },
      "text/plain": [
       "Validation: |          | 0/? [00:00<?, ?it/s]"
      ]
     },
     "metadata": {},
     "output_type": "display_data"
    },
    {
     "name": "stderr",
     "output_type": "stream",
     "text": [
      "Epoch 1, global step 4: 'val_roc_auc' reached 0.58667 (best 0.58667), saving model to 'D:\\\\Projects\\\\aki_prediction_project\\\\models\\\\autogluon_smoketest\\\\epoch=1-step=4.ckpt' as top 3\n"
     ]
    },
    {
     "data": {
      "application/vnd.jupyter.widget-view+json": {
       "model_id": "4c7ff32859a4493a8c57c7e939b240a9",
       "version_major": 2,
       "version_minor": 0
      },
      "text/plain": [
       "Validation: |          | 0/? [00:00<?, ?it/s]"
      ]
     },
     "metadata": {},
     "output_type": "display_data"
    },
    {
     "name": "stderr",
     "output_type": "stream",
     "text": [
      "Epoch 1, global step 6: 'val_roc_auc' was not in top 3\n"
     ]
    },
    {
     "data": {
      "application/vnd.jupyter.widget-view+json": {
       "model_id": "3bb6b6b0ab1c4441b75749c13faa520a",
       "version_major": 2,
       "version_minor": 0
      },
      "text/plain": [
       "Validation: |          | 0/? [00:00<?, ?it/s]"
      ]
     },
     "metadata": {},
     "output_type": "display_data"
    },
    {
     "name": "stderr",
     "output_type": "stream",
     "text": [
      "Epoch 2, global step 7: 'val_roc_auc' reached 0.72133 (best 0.72133), saving model to 'D:\\\\Projects\\\\aki_prediction_project\\\\models\\\\autogluon_smoketest\\\\epoch=2-step=7.ckpt' as top 3\n"
     ]
    },
    {
     "data": {
      "application/vnd.jupyter.widget-view+json": {
       "model_id": "b56c7caf5e69456d9e5b88cf55a495a0",
       "version_major": 2,
       "version_minor": 0
      },
      "text/plain": [
       "Validation: |          | 0/? [00:00<?, ?it/s]"
      ]
     },
     "metadata": {},
     "output_type": "display_data"
    },
    {
     "name": "stderr",
     "output_type": "stream",
     "text": [
      "Epoch 2, global step 9: 'val_roc_auc' was not in top 3\n"
     ]
    },
    {
     "data": {
      "application/vnd.jupyter.widget-view+json": {
       "model_id": "763feb9e26dd4940bced37a6e4f1f922",
       "version_major": 2,
       "version_minor": 0
      },
      "text/plain": [
       "Validation: |          | 0/? [00:00<?, ?it/s]"
      ]
     },
     "metadata": {},
     "output_type": "display_data"
    },
    {
     "name": "stderr",
     "output_type": "stream",
     "text": [
      "Epoch 3, global step 10: 'val_roc_auc' reached 0.63200 (best 0.72133), saving model to 'D:\\\\Projects\\\\aki_prediction_project\\\\models\\\\autogluon_smoketest\\\\epoch=3-step=10.ckpt' as top 3\n"
     ]
    },
    {
     "data": {
      "application/vnd.jupyter.widget-view+json": {
       "model_id": "fad147450cfe482f8e85167b00d782b9",
       "version_major": 2,
       "version_minor": 0
      },
      "text/plain": [
       "Validation: |          | 0/? [00:00<?, ?it/s]"
      ]
     },
     "metadata": {},
     "output_type": "display_data"
    },
    {
     "name": "stderr",
     "output_type": "stream",
     "text": [
      "Epoch 3, global step 12: 'val_roc_auc' was not in top 3\n"
     ]
    },
    {
     "data": {
      "application/vnd.jupyter.widget-view+json": {
       "model_id": "963c9261260b44818fe445ea103656ab",
       "version_major": 2,
       "version_minor": 0
      },
      "text/plain": [
       "Validation: |          | 0/? [00:00<?, ?it/s]"
      ]
     },
     "metadata": {},
     "output_type": "display_data"
    },
    {
     "name": "stderr",
     "output_type": "stream",
     "text": [
      "Epoch 4, global step 13: 'val_roc_auc' was not in top 3\n"
     ]
    },
    {
     "data": {
      "application/vnd.jupyter.widget-view+json": {
       "model_id": "1b5d0b089ef949c6aeec570a50dd0ba9",
       "version_major": 2,
       "version_minor": 0
      },
      "text/plain": [
       "Validation: |          | 0/? [00:00<?, ?it/s]"
      ]
     },
     "metadata": {},
     "output_type": "display_data"
    },
    {
     "name": "stderr",
     "output_type": "stream",
     "text": [
      "Epoch 4, global step 15: 'val_roc_auc' was not in top 3\n"
     ]
    },
    {
     "data": {
      "application/vnd.jupyter.widget-view+json": {
       "model_id": "1c41ada4315747c89e94ddf6aeecb5b1",
       "version_major": 2,
       "version_minor": 0
      },
      "text/plain": [
       "Validation: |          | 0/? [00:00<?, ?it/s]"
      ]
     },
     "metadata": {},
     "output_type": "display_data"
    },
    {
     "name": "stderr",
     "output_type": "stream",
     "text": [
      "Epoch 5, global step 16: 'val_roc_auc' was not in top 3\n"
     ]
    },
    {
     "data": {
      "application/vnd.jupyter.widget-view+json": {
       "model_id": "7f11d72332a543f3a12481ec3d18b429",
       "version_major": 2,
       "version_minor": 0
      },
      "text/plain": [
       "Validation: |          | 0/? [00:00<?, ?it/s]"
      ]
     },
     "metadata": {},
     "output_type": "display_data"
    },
    {
     "name": "stderr",
     "output_type": "stream",
     "text": [
      "Epoch 5, global step 18: 'val_roc_auc' was not in top 3\n"
     ]
    },
    {
     "data": {
      "application/vnd.jupyter.widget-view+json": {
       "model_id": "ee56e5b6c25d400693f8c19c92e62fcf",
       "version_major": 2,
       "version_minor": 0
      },
      "text/plain": [
       "Validation: |          | 0/? [00:00<?, ?it/s]"
      ]
     },
     "metadata": {},
     "output_type": "display_data"
    },
    {
     "name": "stderr",
     "output_type": "stream",
     "text": [
      "Epoch 6, global step 19: 'val_roc_auc' was not in top 3\n"
     ]
    },
    {
     "data": {
      "application/vnd.jupyter.widget-view+json": {
       "model_id": "95e13e7953ab48e793e39f48acc7761e",
       "version_major": 2,
       "version_minor": 0
      },
      "text/plain": [
       "Validation: |          | 0/? [00:00<?, ?it/s]"
      ]
     },
     "metadata": {},
     "output_type": "display_data"
    },
    {
     "name": "stderr",
     "output_type": "stream",
     "text": [
      "Epoch 6, global step 21: 'val_roc_auc' was not in top 3\n"
     ]
    },
    {
     "data": {
      "application/vnd.jupyter.widget-view+json": {
       "model_id": "e0653759bd2f42a5bcd0dc45e83b785c",
       "version_major": 2,
       "version_minor": 0
      },
      "text/plain": [
       "Validation: |          | 0/? [00:00<?, ?it/s]"
      ]
     },
     "metadata": {},
     "output_type": "display_data"
    },
    {
     "name": "stderr",
     "output_type": "stream",
     "text": [
      "Epoch 7, global step 22: 'val_roc_auc' was not in top 3\n",
      "Start to fuse 3 checkpoints via the greedy soup algorithm.\n",
      "💡 Tip: For seamless cloud uploads and versioning, try installing [litmodels](https://pypi.org/project/litmodels/) to enable LitModelCheckpoint, which syncs automatically with the Lightning model registry.\n"
     ]
    },
    {
     "data": {
      "application/vnd.jupyter.widget-view+json": {
       "model_id": "831fc9073f2d4a6c82be4e130ff8f703",
       "version_major": 2,
       "version_minor": 0
      },
      "text/plain": [
       "Predicting: |          | 0/? [00:00<?, ?it/s]"
      ]
     },
     "metadata": {},
     "output_type": "display_data"
    },
    {
     "name": "stderr",
     "output_type": "stream",
     "text": [
      "💡 Tip: For seamless cloud uploads and versioning, try installing [litmodels](https://pypi.org/project/litmodels/) to enable LitModelCheckpoint, which syncs automatically with the Lightning model registry.\n"
     ]
    },
    {
     "data": {
      "application/vnd.jupyter.widget-view+json": {
       "model_id": "e8e1fc9fd26f45538093f0e2e735d99f",
       "version_major": 2,
       "version_minor": 0
      },
      "text/plain": [
       "Predicting: |          | 0/? [00:00<?, ?it/s]"
      ]
     },
     "metadata": {},
     "output_type": "display_data"
    },
    {
     "name": "stderr",
     "output_type": "stream",
     "text": [
      "💡 Tip: For seamless cloud uploads and versioning, try installing [litmodels](https://pypi.org/project/litmodels/) to enable LitModelCheckpoint, which syncs automatically with the Lightning model registry.\n"
     ]
    },
    {
     "data": {
      "application/vnd.jupyter.widget-view+json": {
       "model_id": "b2835098e2db4e818141fa2e2b269332",
       "version_major": 2,
       "version_minor": 0
      },
      "text/plain": [
       "Predicting: |          | 0/? [00:00<?, ?it/s]"
      ]
     },
     "metadata": {},
     "output_type": "display_data"
    },
    {
     "name": "stderr",
     "output_type": "stream",
     "text": [
      "AutoMM has created your model. 🎉🎉🎉\n",
      "\n",
      "To load the model, use the code below:\n",
      "    ```python\n",
      "    from autogluon.multimodal import MultiModalPredictor\n",
      "    predictor = MultiModalPredictor.load(\"d:\\Projects\\aki_prediction_project\\models\\autogluon_smoketest\")\n",
      "    ```\n",
      "\n",
      "If you are not satisfied with the model, try to increase the training time, \n",
      "adjust the hyperparameters (https://auto.gluon.ai/stable/tutorials/multimodal/advanced_topics/customization.html),\n",
      "or post issues on GitHub (https://github.com/autogluon/autogluon/issues).\n",
      "\n",
      "\n",
      "2025-06-23 23:12:43,736 - INFO - --- Smoke Test Evaluation ---\n",
      "💡 Tip: For seamless cloud uploads and versioning, try installing [litmodels](https://pypi.org/project/litmodels/) to enable LitModelCheckpoint, which syncs automatically with the Lightning model registry.\n"
     ]
    },
    {
     "data": {
      "application/vnd.jupyter.widget-view+json": {
       "model_id": "0556422c12014c50a31abc7b480d6b66",
       "version_major": 2,
       "version_minor": 0
      },
      "text/plain": [
       "Predicting: |          | 0/? [00:00<?, ?it/s]"
      ]
     },
     "metadata": {},
     "output_type": "display_data"
    },
    {
     "name": "stderr",
     "output_type": "stream",
     "text": [
      "2025-06-23 23:13:00,794 - INFO - Smoke test evaluation scores: {'roc_auc': np.float64(0.5778947368421052)}\n",
      "2025-06-23 23:13:00,795 - INFO - --- Smoke Test Complete ---\n",
      "2025-06-23 23:13:00,795 - INFO - Test model and logs saved to: ../models/autogluon_smoketest\n",
      "2025-06-23 23:13:00,795 - INFO - If this script completed without errors, you are ready to run the full training.\n"
     ]
    }
   ],
   "source": [
    "# =============================================================================\n",
    "# 4_model_training_test.ipynb (Smoke Test)\n",
    "#\n",
    "# This script is a \"smoke test\" to verify that our model training pipeline\n",
    "# works end-to-end on a small sample of the data before launching the\n",
    "# full, time-consuming training run.\n",
    "#\n",
    "# Key Features:\n",
    "# - Automatically clears previous test runs for easy iteration.\n",
    "# - Uses a small, stratified sample of data to ensure class representation.\n",
    "# - Aligns with AutoGluon documentation by renaming the label column to 'label'.\n",
    "# - Implements all best practices: fine-tuning, weighted loss for imbalance,\n",
    "#   and optimizing for ROC AUC.\n",
    "# - Uses a robust pre-trained checkpoint.\n",
    "# - Sets a 'medium_quality' preset for robust default hyperparameters.\n",
    "# - Includes performance optimizations for modern GPUs.\n",
    "# =============================================================================\n",
    "\n",
    "# --- Standard Library Imports ---\n",
    "import os\n",
    "import pandas as pd\n",
    "import logging\n",
    "import shutil # Import shutil for directory removal\n",
    "\n",
    "# --- Third-Party Imports ---\n",
    "import torch\n",
    "from autogluon.multimodal import MultiModalPredictor\n",
    "from sklearn.model_selection import train_test_split\n",
    "\n",
    "# --- Configuration Block ---\n",
    "\n",
    "# 1. Path Configuration\n",
    "PROCESSED_DATA_DIR = '../data/processed/'\n",
    "TRAIN_MANIFEST = os.path.join(PROCESSED_DATA_DIR, 'train_data.csv')\n",
    "TEST_MANIFEST = os.path.join(PROCESSED_DATA_DIR, 'test_data.csv')\n",
    "MODEL_OUTPUT_PATH = '../models/autogluon_smoketest'\n",
    "\n",
    "# 2. Test Run Configuration\n",
    "SAMPLE_SIZE = 400\n",
    "TIME_LIMIT_SECONDS = 600\n",
    "EVAL_METRIC = 'roc_auc'\n",
    "MODEL_TO_TUNE = 'convnext_tiny'\n",
    "PRESET_QUALITY = 'medium_quality'\n",
    "\n",
    "\n",
    "# --- Main Execution Block ---\n",
    "\n",
    "def main():\n",
    "    \"\"\"Main function to run the model training smoke test.\"\"\"\n",
    "    # 1. Setup and Optimization\n",
    "    torch.set_float32_matmul_precision('medium')\n",
    "    logging.basicConfig(level=logging.INFO, format='%(asctime)s - %(levelname)s - %(message)s')\n",
    "    logging.info(\"--- Starting Model Training Smoke Test ---\")\n",
    "\n",
    "    # --- NEW: Automatically clear previous smoke test results ---\n",
    "    if os.path.exists(MODEL_OUTPUT_PATH):\n",
    "        logging.info(f\"Removing previous smoke test directory: {MODEL_OUTPUT_PATH}\")\n",
    "        shutil.rmtree(MODEL_OUTPUT_PATH)\n",
    "    os.makedirs(MODEL_OUTPUT_PATH, exist_ok=True)\n",
    "\n",
    "\n",
    "    # 2. Load Data and Calculate Weights\n",
    "    logging.info(f\"Loading full training data from: {TRAIN_MANIFEST}\")\n",
    "    try:\n",
    "        full_train_df = pd.read_csv(TRAIN_MANIFEST)\n",
    "    except FileNotFoundError:\n",
    "        logging.error(f\"CRITICAL: Training manifest not found at {TRAIN_MANIFEST}. Please run data generation first.\")\n",
    "        return\n",
    "\n",
    "    # 3. Create a Stratified Sample\n",
    "    if len(full_train_df) > SAMPLE_SIZE:\n",
    "        _, sample_train_df = train_test_split(\n",
    "            full_train_df,\n",
    "            test_size=SAMPLE_SIZE,\n",
    "            stratify=full_train_df['aki_label'],\n",
    "            random_state=42\n",
    "        )\n",
    "        logging.info(f\"Created a stratified sample of {SAMPLE_SIZE} records for the test run.\")\n",
    "    else:\n",
    "        sample_train_df = full_train_df\n",
    "\n",
    "    # 4. Align with AutoGluon Conventions\n",
    "    logging.info(\"Renaming 'aki_label' column to 'label' to align with documentation.\")\n",
    "    sample_train_df = sample_train_df.rename(columns={'aki_label': 'label'})\n",
    "    \n",
    "    # 5. Initialize and Fit Predictor\n",
    "    logging.info(f\"Initializing MultiModalPredictor for a single model: {MODEL_TO_TUNE}\")\n",
    "    predictor = MultiModalPredictor(\n",
    "        label='label',\n",
    "        problem_type='binary',\n",
    "        path=MODEL_OUTPUT_PATH,\n",
    "        eval_metric=EVAL_METRIC,\n",
    "        presets=PRESET_QUALITY\n",
    "    )\n",
    "\n",
    "    logging.info(f\"Starting model training with a time limit of {TIME_LIMIT_SECONDS} seconds.\")\n",
    "    predictor.fit(\n",
    "        train_data=sample_train_df,\n",
    "        hyperparameters={\n",
    "            'model.timm_image.checkpoint_name': MODEL_TO_TUNE,\n",
    "            'optim.loss_func': 'BCEWithLogitsLoss',\n",
    "            'env.per_gpu_batch_size': 32,\n",
    "        },\n",
    "        time_limit=TIME_LIMIT_SECONDS\n",
    "    )\n",
    "    \n",
    "    # 6. Quick Evaluation to Confirm Pipeline Works\n",
    "    logging.info(\"--- Smoke Test Evaluation ---\")\n",
    "    try:\n",
    "        test_df = pd.read_csv(TEST_MANIFEST)\n",
    "        test_sample = test_df.sample(n=min(100, len(test_df)), random_state=42)\n",
    "        test_sample = test_sample.rename(columns={'aki_label': 'label'})\n",
    "        \n",
    "        # --- UPDATED: Use predictor.evaluate() instead of .leaderboard() ---\n",
    "        scores = predictor.evaluate(test_sample, metrics=[EVAL_METRIC])\n",
    "        logging.info(f\"Smoke test evaluation scores: {scores}\")\n",
    "        \n",
    "    except FileNotFoundError:\n",
    "        logging.warning(f\"Test manifest not found at {TEST_MANIFEST}. Skipping evaluation step.\")\n",
    "    except Exception as e:\n",
    "        logging.error(f\"An error occurred during smoke test evaluation: {e}\")\n",
    "\n",
    "    logging.info(f\"--- Smoke Test Complete ---\")\n",
    "    logging.info(f\"Test model and logs saved to: {MODEL_OUTPUT_PATH}\")\n",
    "    logging.info(\"If this script completed without errors, you are ready to run the full training.\")\n",
    "\n",
    "if __name__ == '__main__':\n",
    "    main()\n"
   ]
  }
 ],
 "metadata": {
  "kernelspec": {
   "display_name": "aki_prediction_project",
   "language": "python",
   "name": "python3"
  },
  "language_info": {
   "codemirror_mode": {
    "name": "ipython",
    "version": 3
   },
   "file_extension": ".py",
   "mimetype": "text/x-python",
   "name": "python",
   "nbconvert_exporter": "python",
   "pygments_lexer": "ipython3",
   "version": "3.9.23"
  }
 },
 "nbformat": 4,
 "nbformat_minor": 2
}
